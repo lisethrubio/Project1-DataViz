{
 "cells": [
  {
   "cell_type": "code",
   "execution_count": 13,
   "id": "e6ef9f5a",
   "metadata": {},
   "outputs": [],
   "source": [
    "# Import 'pandas' library for data manipulation\n",
    "# Import 'pathlib' module to handle file paths\n",
    "# Import 'matplotlib' library to create visualizations\n",
    "# Import 'numpy' library for numerical operations\n",
    "# Import 'scipy.stats' module for linear regression \n",
    "\n",
    "import pandas as pd \n",
    "from pathlib import Path \n",
    "\n",
    "import matplotlib.pyplot as plt\n",
    "import numpy as np\n",
    "from scipy.stats import linregress"
   ]
  },
  {
   "cell_type": "code",
   "execution_count": 11,
   "id": "4d41668b",
   "metadata": {
    "scrolled": false
   },
   "outputs": [
    {
     "ename": "FileNotFoundError",
     "evalue": "[Errno 2] No such file or directory: 'spotify-2023.csv'",
     "output_type": "error",
     "traceback": [
      "\u001b[1;31m---------------------------------------------------------------------------\u001b[0m",
      "\u001b[1;31mFileNotFoundError\u001b[0m                         Traceback (most recent call last)",
      "Cell \u001b[1;32mIn[11], line 7\u001b[0m\n\u001b[0;32m      3\u001b[0m spotify_csv \u001b[38;5;241m=\u001b[39m Path(\u001b[38;5;124m\"\u001b[39m\u001b[38;5;124mspotify-2023.csv\u001b[39m\u001b[38;5;124m\"\u001b[39m)\n\u001b[0;32m      5\u001b[0m \u001b[38;5;66;03m# the pd.read_csv function reads the 'spotify-2023.csv' file and loads it into a Pandas DataFrame.\u001b[39;00m\n\u001b[1;32m----> 7\u001b[0m spotify_df \u001b[38;5;241m=\u001b[39m pd\u001b[38;5;241m.\u001b[39mread_csv(spotify_csv, encoding\u001b[38;5;241m=\u001b[39m\u001b[38;5;124m\"\u001b[39m\u001b[38;5;124mlatin-1\u001b[39m\u001b[38;5;124m\"\u001b[39m)\n\u001b[0;32m      9\u001b[0m \u001b[38;5;66;03m# after reduced and renamed columns, first 5 rows of data are shown\u001b[39;00m\n\u001b[0;32m     10\u001b[0m spotify_df\u001b[38;5;241m.\u001b[39mhead()\n",
      "File \u001b[1;32m~\\anaconda3\\Lib\\site-packages\\pandas\\io\\parsers\\readers.py:912\u001b[0m, in \u001b[0;36mread_csv\u001b[1;34m(filepath_or_buffer, sep, delimiter, header, names, index_col, usecols, dtype, engine, converters, true_values, false_values, skipinitialspace, skiprows, skipfooter, nrows, na_values, keep_default_na, na_filter, verbose, skip_blank_lines, parse_dates, infer_datetime_format, keep_date_col, date_parser, date_format, dayfirst, cache_dates, iterator, chunksize, compression, thousands, decimal, lineterminator, quotechar, quoting, doublequote, escapechar, comment, encoding, encoding_errors, dialect, on_bad_lines, delim_whitespace, low_memory, memory_map, float_precision, storage_options, dtype_backend)\u001b[0m\n\u001b[0;32m    899\u001b[0m kwds_defaults \u001b[38;5;241m=\u001b[39m _refine_defaults_read(\n\u001b[0;32m    900\u001b[0m     dialect,\n\u001b[0;32m    901\u001b[0m     delimiter,\n\u001b[1;32m   (...)\u001b[0m\n\u001b[0;32m    908\u001b[0m     dtype_backend\u001b[38;5;241m=\u001b[39mdtype_backend,\n\u001b[0;32m    909\u001b[0m )\n\u001b[0;32m    910\u001b[0m kwds\u001b[38;5;241m.\u001b[39mupdate(kwds_defaults)\n\u001b[1;32m--> 912\u001b[0m \u001b[38;5;28;01mreturn\u001b[39;00m _read(filepath_or_buffer, kwds)\n",
      "File \u001b[1;32m~\\anaconda3\\Lib\\site-packages\\pandas\\io\\parsers\\readers.py:577\u001b[0m, in \u001b[0;36m_read\u001b[1;34m(filepath_or_buffer, kwds)\u001b[0m\n\u001b[0;32m    574\u001b[0m _validate_names(kwds\u001b[38;5;241m.\u001b[39mget(\u001b[38;5;124m\"\u001b[39m\u001b[38;5;124mnames\u001b[39m\u001b[38;5;124m\"\u001b[39m, \u001b[38;5;28;01mNone\u001b[39;00m))\n\u001b[0;32m    576\u001b[0m \u001b[38;5;66;03m# Create the parser.\u001b[39;00m\n\u001b[1;32m--> 577\u001b[0m parser \u001b[38;5;241m=\u001b[39m TextFileReader(filepath_or_buffer, \u001b[38;5;241m*\u001b[39m\u001b[38;5;241m*\u001b[39mkwds)\n\u001b[0;32m    579\u001b[0m \u001b[38;5;28;01mif\u001b[39;00m chunksize \u001b[38;5;129;01mor\u001b[39;00m iterator:\n\u001b[0;32m    580\u001b[0m     \u001b[38;5;28;01mreturn\u001b[39;00m parser\n",
      "File \u001b[1;32m~\\anaconda3\\Lib\\site-packages\\pandas\\io\\parsers\\readers.py:1407\u001b[0m, in \u001b[0;36mTextFileReader.__init__\u001b[1;34m(self, f, engine, **kwds)\u001b[0m\n\u001b[0;32m   1404\u001b[0m     \u001b[38;5;28mself\u001b[39m\u001b[38;5;241m.\u001b[39moptions[\u001b[38;5;124m\"\u001b[39m\u001b[38;5;124mhas_index_names\u001b[39m\u001b[38;5;124m\"\u001b[39m] \u001b[38;5;241m=\u001b[39m kwds[\u001b[38;5;124m\"\u001b[39m\u001b[38;5;124mhas_index_names\u001b[39m\u001b[38;5;124m\"\u001b[39m]\n\u001b[0;32m   1406\u001b[0m \u001b[38;5;28mself\u001b[39m\u001b[38;5;241m.\u001b[39mhandles: IOHandles \u001b[38;5;241m|\u001b[39m \u001b[38;5;28;01mNone\u001b[39;00m \u001b[38;5;241m=\u001b[39m \u001b[38;5;28;01mNone\u001b[39;00m\n\u001b[1;32m-> 1407\u001b[0m \u001b[38;5;28mself\u001b[39m\u001b[38;5;241m.\u001b[39m_engine \u001b[38;5;241m=\u001b[39m \u001b[38;5;28mself\u001b[39m\u001b[38;5;241m.\u001b[39m_make_engine(f, \u001b[38;5;28mself\u001b[39m\u001b[38;5;241m.\u001b[39mengine)\n",
      "File \u001b[1;32m~\\anaconda3\\Lib\\site-packages\\pandas\\io\\parsers\\readers.py:1661\u001b[0m, in \u001b[0;36mTextFileReader._make_engine\u001b[1;34m(self, f, engine)\u001b[0m\n\u001b[0;32m   1659\u001b[0m     \u001b[38;5;28;01mif\u001b[39;00m \u001b[38;5;124m\"\u001b[39m\u001b[38;5;124mb\u001b[39m\u001b[38;5;124m\"\u001b[39m \u001b[38;5;129;01mnot\u001b[39;00m \u001b[38;5;129;01min\u001b[39;00m mode:\n\u001b[0;32m   1660\u001b[0m         mode \u001b[38;5;241m+\u001b[39m\u001b[38;5;241m=\u001b[39m \u001b[38;5;124m\"\u001b[39m\u001b[38;5;124mb\u001b[39m\u001b[38;5;124m\"\u001b[39m\n\u001b[1;32m-> 1661\u001b[0m \u001b[38;5;28mself\u001b[39m\u001b[38;5;241m.\u001b[39mhandles \u001b[38;5;241m=\u001b[39m get_handle(\n\u001b[0;32m   1662\u001b[0m     f,\n\u001b[0;32m   1663\u001b[0m     mode,\n\u001b[0;32m   1664\u001b[0m     encoding\u001b[38;5;241m=\u001b[39m\u001b[38;5;28mself\u001b[39m\u001b[38;5;241m.\u001b[39moptions\u001b[38;5;241m.\u001b[39mget(\u001b[38;5;124m\"\u001b[39m\u001b[38;5;124mencoding\u001b[39m\u001b[38;5;124m\"\u001b[39m, \u001b[38;5;28;01mNone\u001b[39;00m),\n\u001b[0;32m   1665\u001b[0m     compression\u001b[38;5;241m=\u001b[39m\u001b[38;5;28mself\u001b[39m\u001b[38;5;241m.\u001b[39moptions\u001b[38;5;241m.\u001b[39mget(\u001b[38;5;124m\"\u001b[39m\u001b[38;5;124mcompression\u001b[39m\u001b[38;5;124m\"\u001b[39m, \u001b[38;5;28;01mNone\u001b[39;00m),\n\u001b[0;32m   1666\u001b[0m     memory_map\u001b[38;5;241m=\u001b[39m\u001b[38;5;28mself\u001b[39m\u001b[38;5;241m.\u001b[39moptions\u001b[38;5;241m.\u001b[39mget(\u001b[38;5;124m\"\u001b[39m\u001b[38;5;124mmemory_map\u001b[39m\u001b[38;5;124m\"\u001b[39m, \u001b[38;5;28;01mFalse\u001b[39;00m),\n\u001b[0;32m   1667\u001b[0m     is_text\u001b[38;5;241m=\u001b[39mis_text,\n\u001b[0;32m   1668\u001b[0m     errors\u001b[38;5;241m=\u001b[39m\u001b[38;5;28mself\u001b[39m\u001b[38;5;241m.\u001b[39moptions\u001b[38;5;241m.\u001b[39mget(\u001b[38;5;124m\"\u001b[39m\u001b[38;5;124mencoding_errors\u001b[39m\u001b[38;5;124m\"\u001b[39m, \u001b[38;5;124m\"\u001b[39m\u001b[38;5;124mstrict\u001b[39m\u001b[38;5;124m\"\u001b[39m),\n\u001b[0;32m   1669\u001b[0m     storage_options\u001b[38;5;241m=\u001b[39m\u001b[38;5;28mself\u001b[39m\u001b[38;5;241m.\u001b[39moptions\u001b[38;5;241m.\u001b[39mget(\u001b[38;5;124m\"\u001b[39m\u001b[38;5;124mstorage_options\u001b[39m\u001b[38;5;124m\"\u001b[39m, \u001b[38;5;28;01mNone\u001b[39;00m),\n\u001b[0;32m   1670\u001b[0m )\n\u001b[0;32m   1671\u001b[0m \u001b[38;5;28;01massert\u001b[39;00m \u001b[38;5;28mself\u001b[39m\u001b[38;5;241m.\u001b[39mhandles \u001b[38;5;129;01mis\u001b[39;00m \u001b[38;5;129;01mnot\u001b[39;00m \u001b[38;5;28;01mNone\u001b[39;00m\n\u001b[0;32m   1672\u001b[0m f \u001b[38;5;241m=\u001b[39m \u001b[38;5;28mself\u001b[39m\u001b[38;5;241m.\u001b[39mhandles\u001b[38;5;241m.\u001b[39mhandle\n",
      "File \u001b[1;32m~\\anaconda3\\Lib\\site-packages\\pandas\\io\\common.py:859\u001b[0m, in \u001b[0;36mget_handle\u001b[1;34m(path_or_buf, mode, encoding, compression, memory_map, is_text, errors, storage_options)\u001b[0m\n\u001b[0;32m    854\u001b[0m \u001b[38;5;28;01melif\u001b[39;00m \u001b[38;5;28misinstance\u001b[39m(handle, \u001b[38;5;28mstr\u001b[39m):\n\u001b[0;32m    855\u001b[0m     \u001b[38;5;66;03m# Check whether the filename is to be opened in binary mode.\u001b[39;00m\n\u001b[0;32m    856\u001b[0m     \u001b[38;5;66;03m# Binary mode does not support 'encoding' and 'newline'.\u001b[39;00m\n\u001b[0;32m    857\u001b[0m     \u001b[38;5;28;01mif\u001b[39;00m ioargs\u001b[38;5;241m.\u001b[39mencoding \u001b[38;5;129;01mand\u001b[39;00m \u001b[38;5;124m\"\u001b[39m\u001b[38;5;124mb\u001b[39m\u001b[38;5;124m\"\u001b[39m \u001b[38;5;129;01mnot\u001b[39;00m \u001b[38;5;129;01min\u001b[39;00m ioargs\u001b[38;5;241m.\u001b[39mmode:\n\u001b[0;32m    858\u001b[0m         \u001b[38;5;66;03m# Encoding\u001b[39;00m\n\u001b[1;32m--> 859\u001b[0m         handle \u001b[38;5;241m=\u001b[39m \u001b[38;5;28mopen\u001b[39m(\n\u001b[0;32m    860\u001b[0m             handle,\n\u001b[0;32m    861\u001b[0m             ioargs\u001b[38;5;241m.\u001b[39mmode,\n\u001b[0;32m    862\u001b[0m             encoding\u001b[38;5;241m=\u001b[39mioargs\u001b[38;5;241m.\u001b[39mencoding,\n\u001b[0;32m    863\u001b[0m             errors\u001b[38;5;241m=\u001b[39merrors,\n\u001b[0;32m    864\u001b[0m             newline\u001b[38;5;241m=\u001b[39m\u001b[38;5;124m\"\u001b[39m\u001b[38;5;124m\"\u001b[39m,\n\u001b[0;32m    865\u001b[0m         )\n\u001b[0;32m    866\u001b[0m     \u001b[38;5;28;01melse\u001b[39;00m:\n\u001b[0;32m    867\u001b[0m         \u001b[38;5;66;03m# Binary mode\u001b[39;00m\n\u001b[0;32m    868\u001b[0m         handle \u001b[38;5;241m=\u001b[39m \u001b[38;5;28mopen\u001b[39m(handle, ioargs\u001b[38;5;241m.\u001b[39mmode)\n",
      "\u001b[1;31mFileNotFoundError\u001b[0m: [Errno 2] No such file or directory: 'spotify-2023.csv'"
     ]
    }
   ],
   "source": [
    "# variable 'spotify_csv' is assigned the 'Path' object, representing the file path to 'spotify-2023.csv' file.\n",
    "\n",
    "spotify_csv = Path(\"spotify-2023.csv\")\n",
    "\n",
    "# the pd.read_csv function reads the 'spotify-2023.csv' file and loads it into a Pandas DataFrame.\n",
    "\n",
    "spotify_df = pd.read_csv(spotify_csv, encoding=\"latin-1\")\n",
    "\n",
    "# after reduced and renamed columns, first 5 rows of data are shown\n",
    "spotify_df.head()\n"
   ]
  },
  {
   "cell_type": "code",
   "execution_count": null,
   "id": "04e323ac",
   "metadata": {},
   "outputs": [],
   "source": [
    "spotify_df.columns"
   ]
  },
  {
   "cell_type": "code",
   "execution_count": null,
   "id": "18a7f778",
   "metadata": {},
   "outputs": [],
   "source": [
    "# Create DataFrames with columns needed\n",
    "\n",
    "spotify_columns_df = spotify_df[[\"artist(s)_name\", \"track_name\", \"released_year\",\"streams\", \"in_spotify_charts\", \"in_apple_charts\", \"in_deezer_charts\", \"in_shazam_charts\", \"bpm\", \"danceability_%\"]]\n",
    "\n",
    "spotify_columns_df.head(10)\n",
    "\n"
   ]
  },
  {
   "cell_type": "code",
   "execution_count": null,
   "id": "e7f9deb4",
   "metadata": {},
   "outputs": [],
   "source": [
    "# rename columns\n",
    "\n",
    "spotify_columns_df = spotify_columns_df.rename(columns={\"track_name\": \"Song Title\",\n",
    "                                                       \"artist(s)_name\": \"Artist\",\n",
    "                                                       \"released_year\": \"Released Year\",\n",
    "                                                       \"streams\": \"Streams\",\n",
    "                                                       \"in_spotify_charts\": \"Spotify Charts\",\n",
    "                                                       \"in_apple_charts\": \"Apple Charts\",\n",
    "                                                       \"in_deezer_charts\": \"Deezer Charts\",\n",
    "                                                       \"in_shazam_charts\": \"Shazam Charts\",\n",
    "                                                       \"bpm\": \"BPM\",\n",
    "                                                       \"danceability_%\": \"Danceability %\"\n",
    "                                                       })\n",
    "\n",
    "spotify_columns_df"
   ]
  },
  {
   "cell_type": "code",
   "execution_count": null,
   "id": "0cbc1c36",
   "metadata": {},
   "outputs": [],
   "source": [
    "# find missing values \n",
    "\n",
    "spotify_columns_df.count()"
   ]
  },
  {
   "cell_type": "code",
   "execution_count": null,
   "id": "268d7187",
   "metadata": {},
   "outputs": [],
   "source": [
    "# filling missing values with 0 \n",
    "\n",
    "spotify_columns_df = spotify_columns_df.fillna(0)\n",
    "spotify_columns_df.count()\n"
   ]
  },
  {
   "cell_type": "code",
   "execution_count": null,
   "id": "52d4af80",
   "metadata": {
    "scrolled": false
   },
   "outputs": [],
   "source": [
    "# Detecting missingg or NA values\n",
    "# NA values = Returns True \n",
    "\n",
    "fillna_values = spotify_columns_df.isna()\n",
    "fillna_values"
   ]
  },
  {
   "cell_type": "code",
   "execution_count": null,
   "id": "96df52d0",
   "metadata": {
    "scrolled": true
   },
   "outputs": [],
   "source": [
    "# Datatypes of values \n",
    "\n",
    "spotify_columns_df.dtypes"
   ]
  },
  {
   "cell_type": "code",
   "execution_count": null,
   "id": "9d02a57c",
   "metadata": {
    "scrolled": true
   },
   "outputs": [],
   "source": [
    "# Deleting a weird value from DataFrame\n",
    "\n",
    "value_to_delete = 'BPM110KeyAModeMajorDanceability53Valence75Energy69Acousticness7Instrumentalness0Liveness17Speechiness3'\n",
    "spotify_columns_df = spotify_columns_df[spotify_columns_df['Streams'] != value_to_delete]\n",
    "\n",
    "spotify_columns_df\n",
    "\n"
   ]
  },
  {
   "cell_type": "code",
   "execution_count": null,
   "id": "4a78f70b",
   "metadata": {
    "scrolled": true
   },
   "outputs": [],
   "source": [
    "# Converting float or object datatypes to integer datatype of columns with numerical values \n",
    "\n",
    "spotify_columns_df = spotify_columns_df.astype({\"Streams\": \"int64\"}, errors='raise')\n",
    "spotify_columns_df[\"Streams\"].dtype\n"
   ]
  },
  {
   "cell_type": "code",
   "execution_count": null,
   "id": "9caa2f1d",
   "metadata": {},
   "outputs": [],
   "source": [
    "spotify_columns_df['Shazam Charts'] = spotify_columns_df['Shazam Charts'].str.replace(',','')\n",
    "spotify_columns_df = spotify_columns_df.fillna({'Shazam Charts': 0})\n",
    "spotify_columns_df['Shazam Charts'] = spotify_columns_df['Shazam Charts'].astype(\"int64\")\n",
    "spotify_columns_df.dtypes"
   ]
  },
  {
   "cell_type": "code",
   "execution_count": null,
   "id": "59171355",
   "metadata": {},
   "outputs": [],
   "source": [
    "# Calculating the maximum value from the \"Streams\" column\n",
    "\n",
    "highest_streams = spotify_columns_df[\"Streams\"].max()\n",
    "\n",
    "print(highest_streams)"
   ]
  },
  {
   "cell_type": "code",
   "execution_count": null,
   "id": "2027b04b",
   "metadata": {},
   "outputs": [],
   "source": [
    "# Calculating the minimum value from the \"Streams\" column\n",
    "\n",
    "lowest_streams = spotify_columns_df[\"Streams\"].min()\n",
    "\n",
    "print(lowest_streams)"
   ]
  },
  {
   "cell_type": "code",
   "execution_count": null,
   "id": "598d1e1f",
   "metadata": {},
   "outputs": [],
   "source": [
    "# Calculating descroptive statistics for the \"Streams\" column\n",
    "\n",
    "stats_streams = spotify_columns_df[\"Streams\"].describe()\n",
    "\n",
    "print(stats_streams)"
   ]
  },
  {
   "cell_type": "code",
   "execution_count": null,
   "id": "c1bfc254",
   "metadata": {
    "scrolled": true
   },
   "outputs": [],
   "source": [
    "# Calculating descriptive statistics for all the columns with numerical values\n",
    "\n",
    "stats_spotify_columns = spotify_columns_df.describe()\n",
    "\n",
    "print(stats_spotify_columns)"
   ]
  },
  {
   "cell_type": "code",
   "execution_count": null,
   "id": "45b91a0c",
   "metadata": {
    "scrolled": false
   },
   "outputs": [],
   "source": [
    "# Creating a new DataFrame the top 5 songs\n",
    "\n",
    "spotify_columns_top5_df = spotify_columns_df.head(5)\n",
    "\n",
    "spotify_columns_top5_df"
   ]
  },
  {
   "cell_type": "code",
   "execution_count": null,
   "id": "7425729b",
   "metadata": {},
   "outputs": [],
   "source": [
    "# Data Cleaning: Sorting Streams in descending (highest to lowest) order with parameter (ascending=False) for top 5 songs\n",
    "\n",
    "spotify_columns_top5_df = spotify_columns_df.sort_values([\"Streams\"], ascending=False)\n",
    "\n",
    "spotify_columns_top5_df.head(5)\n"
   ]
  },
  {
   "cell_type": "code",
   "execution_count": null,
   "id": "428dea46",
   "metadata": {},
   "outputs": [],
   "source": [
    "# Creating a DataFrame for the bottom 5 songs \n",
    "\n",
    "spotify_columns_bottom5_df = spotify_columns_df.tail(5)\n",
    "\n",
    "spotify_columns_bottom5_df"
   ]
  },
  {
   "cell_type": "code",
   "execution_count": null,
   "id": "c5db9a6d",
   "metadata": {},
   "outputs": [],
   "source": [
    "# Data Cleaning: Sorting Streams in ascending (lowest to highest) order with parameter (ascending=True) for bottom 5 songs\n",
    "\n",
    "spotify_columns_bottom5_df = spotify_columns_df.sort_values([\"Streams\"], ascending=True)\n",
    "\n",
    "spotify_columns_bottom5_df.head(5)"
   ]
  },
  {
   "cell_type": "code",
   "execution_count": null,
   "id": "9d0950c3",
   "metadata": {},
   "outputs": [],
   "source": [
    "# Data Visualization: This code creates a bar chart to visualize the stream count by songs from the top 5. \n",
    "\n",
    "# The 'data' dictionary contains two lists: 'song tittle' and 'streams'\n",
    "# 'Song Title' contains the titles of the top songs, followed by the name of the artist.\n",
    "# 'Streams' contains the respective stream counts for each song.\n",
    "\n",
    "data = {'Song Title': ['Blinding Lights \\n By The Weeknd', 'Shape of You \\n By Ed Sheeran', \n",
    "                       'Someone You Loved \\n By Lewis Capaldi', 'Dance Monkey \\n By Tones and I',\n",
    "                       'Sunflower-Spider-Man \\n By Post Malone, Swae Lee'],\n",
    "        'Streams': [3703895074, 3562543890, 2887241814, 2864791672, 2808096550]}\n",
    "\n",
    "# Bar chart creation: \n",
    "\n",
    "# Set the size of the figure \n",
    "plt.figure(figsize=(10,6))\n",
    "\n",
    "# Set x-axis to represent 'Song Tittles' and y-axis 'Streams'\n",
    "plt.bar(data['Song Title'], data['Streams'], color='skyblue')\n",
    "\n",
    "# Set rotation of x-axis labels by 45 degrees for readability as horizontal axis\n",
    "# Display y-axis labels in plain format\n",
    "plt.xticks(rotation=45, ha='right')\n",
    "plt.ticklabel_format(style='plain', axis='y')\n",
    "\n",
    "\n",
    "# Set title, x-axis label, and y-axis label\n",
    "\n",
    "plt.xlabel('Song Title')\n",
    "plt.ylabel('Streams')\n",
    "plt.title('Streams by Songs-Top 5')\n",
    "\n",
    "# Fitting elements within the figure\n",
    "\n",
    "plt.tight_layout()\n",
    "plt.savefig(\"Barchart-top5\")\n",
    "plt.show()"
   ]
  },
  {
   "cell_type": "code",
   "execution_count": null,
   "id": "7fe6e7f9",
   "metadata": {
    "scrolled": false
   },
   "outputs": [],
   "source": [
    "# Data Visualization: This code creates a bar chart to visualize streams count by Songs for the bottom 5 songs\n",
    "\n",
    "# The 'data' dictionary contains two lists: 'song tittle' and 'streams'\n",
    "# 'Song Title' contains the titles of the last 5 songs, followed by the name of the artist.\n",
    "# 'Streams' contains the respective stream counts for each song.\n",
    "\n",
    "data = {'Song Title': [\"Que Vuelvas \\n By Carin Leon, Grupo Frontera\",\n",
    "                       \"Jhoome Jo Pathaan \\n By Arijit Singh, Vishal Dadlani\",\n",
    "                       \"QUEMA \\n By Sog, Ryan Castro, Peso Pluma\",\n",
    "                       \"Gol Bolinha, Gol Quadrado 2 \\n By Mc Pedrinho, DJ 900\",\"Overdrive \\n By Post Malone\"],\n",
    "        'Streams': [2762, 1365184, 11599388, 11956641, 14780425]}\n",
    "\n",
    "\n",
    "# Bar chart creation: \n",
    "\n",
    "# Set the size of the figure \n",
    "plt.figure(figsize=(10,6))\n",
    "\n",
    "# Set x-axis to represent 'Song Tittles' and y-axis 'Streams'\n",
    "plt.bar(data['Song Title'], data['Streams'], color='skyblue')\n",
    "\n",
    "# Set rotation of x-axis labels by 45 degrees for readability as horizontal axis\n",
    "# Display y-axis labels in plain format\n",
    "plt.xticks(rotation=45, ha='right')\n",
    "plt.ticklabel_format(style='plain', axis='y')\n",
    "\n",
    "\n",
    "# Set title, x-axis label, and y-axis label\n",
    "# Fitting elements within the figure\n",
    "\n",
    "plt.xlabel('Song Title')\n",
    "plt.ylabel('Streams')\n",
    "plt.title('Streams by Song-Bottom 5')\n",
    "plt.tight_layout()\n",
    "plt.savefig(\"Barchart-bottom5\")\n",
    "plt.show()"
   ]
  },
  {
   "cell_type": "code",
   "execution_count": null,
   "id": "57112cde",
   "metadata": {},
   "outputs": [],
   "source": [
    "# Desxriptive statistics: max and min for BPM\n",
    "\n",
    "print(\"Max: \" + str(spotify_columns_df['BPM'].max()))\n",
    "print(\"Min: \" + str(spotify_columns_df['BPM'].min()))"
   ]
  },
  {
   "cell_type": "code",
   "execution_count": null,
   "id": "599b0ea4",
   "metadata": {},
   "outputs": [],
   "source": [
    "# Data Visualization: Pie Chart\n",
    "\n",
    "# Defining the boundaries for the bins into groups of BPMs.\n",
    "\n",
    "bins = [60, 89, 119, 149, 179, 210]\n",
    "\n",
    "groups = ['60 to 89 bpm', '90 to 119 bpm', '120 to 149 bpm', '150 to 179 bpm', '180 to 210 bpm']\n",
    "pd.cut(spotify_columns_df['BPM'], bins, labels=groups)\n"
   ]
  },
  {
   "cell_type": "code",
   "execution_count": null,
   "id": "42089783",
   "metadata": {},
   "outputs": [],
   "source": [
    "# Slicing bpm counts of stream \n",
    "\n",
    "spotify_bpm_counts = pd.cut(spotify_columns_df['BPM'], bins, labels=groups)\n",
    "spotify_bpm_counts = spotify_bpm_counts.value_counts()\n",
    "spotify_bpm_counts"
   ]
  },
  {
   "cell_type": "code",
   "execution_count": null,
   "id": "d317a4b9",
   "metadata": {
    "scrolled": true
   },
   "outputs": [],
   "source": [
    "# Pie chart\n",
    "\n",
    "colors = ['lightpink', 'peachpuff', 'palegreen', 'skyblue', 'plum']\n",
    "explode = (.1,0,0,0,0)\n",
    "plt.pie(spotify_bpm_counts, labels=groups, autopct=\"%1.1f%%\", shadow=True, explode=explode, colors=colors)\n",
    "plt.title('BPM Distribution')\n",
    "plt.savefig(\"BPM-Distribution\")\n",
    "plt.show"
   ]
  },
  {
   "cell_type": "code",
   "execution_count": null,
   "id": "35fab303",
   "metadata": {},
   "outputs": [],
   "source": [
    "# Data Visualization: Data from DataFrame to create scatter plot\n",
    "\n",
    "spotifycharts_scatterplot = spotify_columns_df[['Spotify Charts', 'Danceability %']]\n",
    "\n",
    "# Filter out fillna values of 0 out of 'Spotify Charts'\n",
    "\n",
    "spotifycharts_scatterplot = spotifycharts_scatterplot.loc[(spotifycharts_scatterplot['Spotify Charts'] > 0 ) &\n",
    "                                                          (spotifycharts_scatterplot['Spotify Charts'] < 100)]\n",
    "\n",
    "\n",
    "# Linear Regression\n",
    "\n",
    "(slope, intercept, rvalue, pvalue, stderr) = linregress(x_axis, y_axis)\n",
    "regress_values = x_axis * slope + intercept \n",
    "line_eq = \"y = \" + str(round(slope,2)) + \"x + \" + str(round(intercept,2))\n",
    "\n",
    "# Set Variables\n",
    "\n",
    "x_axis = spotifycharts_scatterplot['Spotify Charts']\n",
    "y_axis = spotifycharts_scatterplot['Danceability %']\n",
    "\n",
    "# Plotting data \n",
    "\n",
    "plt.scatter(x_axis, y_axis)\n",
    "plt.plot(x_axis, regress_values, \"r-\")\n",
    "plt.annotate(line_eq, (60,30), fontsize=15,color=\"red\")\n",
    "plt.title(\"Danceability across Spotify Charts\")\n",
    "plt.xlabel('Spotify Chart Position')\n",
    "plt.ylabel('Danceability (%)')\n",
    "plt.savefig(\"scatter1\")\n",
    "print(f\"The r-squared is: {rvalue**2}\")\n",
    "plt.show()"
   ]
  },
  {
   "cell_type": "code",
   "execution_count": null,
   "id": "0ff7d1be",
   "metadata": {},
   "outputs": [],
   "source": [
    "spotifycharts_scatterplot.describe()\n"
   ]
  },
  {
   "cell_type": "code",
   "execution_count": null,
   "id": "6c3883ef",
   "metadata": {},
   "outputs": [],
   "source": [
    "# Data Visualization: Data from DataFrame to create scatter plot\n",
    "\n",
    "applecharts_scatterplot = spotify_columns_df[['Apple Charts', 'Danceability %']]\n",
    "\n",
    "# Filter out fillna values of 0 out of 'Spotify Charts'\n",
    "\n",
    "applecharts_scatterplot = applecharts_scatterplot.loc[(applecharts_scatterplot['Apple Charts'] > 0) & (applecharts_scatterplot['Apple Charts'] < 100)]\n",
    "\n",
    "\n",
    "# Set Variables\n",
    "\n",
    "x_axis = applecharts_scatterplot['Apple Charts']\n",
    "y_axis = applecharts_scatterplot['Danceability %']\n",
    "\n",
    "# Linear Regression\n",
    "\n",
    "(slope, intercept, rvalue, pvalue, stderr) = linregress(x_axis, y_axis)\n",
    "regress_values = x_axis * slope + intercept \n",
    "line_eq = \"y = \" + str(round(slope,2)) + \"x + \" + str(round(intercept,2))\n",
    "\n",
    "# Plotting data \n",
    "\n",
    "plt.scatter(x_axis, y_axis)\n",
    "plt.plot(x_axis, regress_values, \"r-\")\n",
    "plt.annotate(line_eq, (60,60), fontsize=15,color=\"red\")\n",
    "plt.title(\"Danceability across Apple Charts\")\n",
    "plt.xlabel('Apple Chart Position')\n",
    "plt.ylabel('Danceability (%)')\n",
    "plt.savefig(\"scatter2\")\n",
    "print(f\"The r-squared is: {rvalue**2}\")\n",
    "plt.show()"
   ]
  },
  {
   "cell_type": "code",
   "execution_count": null,
   "id": "818db47a",
   "metadata": {},
   "outputs": [],
   "source": [
    "applecharts_scatterplot.describe()"
   ]
  },
  {
   "cell_type": "code",
   "execution_count": null,
   "id": "f999c07c",
   "metadata": {
    "scrolled": true
   },
   "outputs": [],
   "source": [
    "# Data Visualization: Data from DataFrame to create scatter plot\n",
    "\n",
    "deezercharts_scatterplot = spotify_columns_df[['Deezer Charts', 'Danceability %']]\n",
    "\n",
    "# Filter out fillna values of 0 out of 'Spotify Charts'\n",
    "\n",
    "deezercharts_scatterplot = deezercharts_scatterplot.loc[(deezercharts_scatterplot['Deezer Charts'] > 0) & (deezercharts_scatterplot['Deezer Charts'] < 100)]\n",
    "\n",
    "# Set Variables\n",
    "\n",
    "x_axis = deezercharts_scatterplot['Deezer Charts']\n",
    "y_axis = deezercharts_scatterplot['Danceability %']\n",
    "\n",
    "# Linear Regression\n",
    "\n",
    "(slope, intercept, rvalue, pvalue, stderr) = linregress(x_axis, y_axis)\n",
    "regress_values = x_axis * slope + intercept \n",
    "line_eq = \"y = \" + str(round(slope,2)) + \"x + \" + str(round(intercept,2))\n",
    "\n",
    "# Plotting data \n",
    "\n",
    "plt.scatter(x_axis, y_axis)\n",
    "plt.plot(x_axis, regress_values, \"r-\")\n",
    "plt.annotate(line_eq, (30,30), fontsize=15,color=\"red\")\n",
    "plt.title(\"Danceability across Deezer Charts\")\n",
    "plt.xlabel('Deezer Chart Position')\n",
    "plt.ylabel('Danceability (%)')\n",
    "plt.savefig(\"scatter3\")\n",
    "print(f\"The r-squared is: {rvalue**2}\")\n",
    "plt.show()"
   ]
  },
  {
   "cell_type": "code",
   "execution_count": null,
   "id": "02244171",
   "metadata": {},
   "outputs": [],
   "source": [
    "deezercharts_scatterplot.describe()\n"
   ]
  },
  {
   "cell_type": "code",
   "execution_count": null,
   "id": "bc9c12ca",
   "metadata": {},
   "outputs": [],
   "source": [
    "# Data Visualization: Data from DataFrame to create scatter plot\n",
    "\n",
    "shazamcharts_scatterplot = spotify_columns_df[['Shazam Charts', 'Danceability %']]\n",
    "\n",
    "# Filter out fillna values of 0 out of 'Spotify Charts'\n",
    "\n",
    "shazamcharts_scatterplot = shazamcharts_scatterplot.loc[(shazamcharts_scatterplot['Shazam Charts'] > 0) & (shazamcharts_scatterplot['Shazam Charts'] < 100)]\n",
    "\n",
    "# Set Variables\n",
    "\n",
    "x_axis = shazamcharts_scatterplot['Shazam Charts']\n",
    "y_axis = shazamcharts_scatterplot['Danceability %']\n",
    "\n",
    "\n",
    "\n",
    "(slope, intercept, rvalue, pvalue, stderr) = linregress(x_axis, y_axis)\n",
    "regress_values = x_axis * slope + intercept \n",
    "line_eq = \"y = \" + str(round(slope,2)) + \"x + \" + str(round(intercept,2))\n",
    "\n",
    "# Plotting data \n",
    "\n",
    "plt.scatter(x_axis, y_axis)\n",
    "plt.plot(x_axis, regress_values, \"r-\")\n",
    "plt.annotate(line_eq, (30,30), fontsize=15,color=\"red\")\n",
    "plt.title(\"Danceability across Shazam Charts\")\n",
    "plt.xlabel('Shazam Chart Position')\n",
    "plt.ylabel('Danceability (%)')\n",
    "plt.savefig(\"scatter4\")\n",
    "print(f\"The r-squared is: {rvalue**2}\")\n",
    "plt.show()"
   ]
  },
  {
   "cell_type": "code",
   "execution_count": null,
   "id": "38b01b36",
   "metadata": {
    "scrolled": true
   },
   "outputs": [],
   "source": [
    "shazamcharts_scatterplot.describe()"
   ]
  },
  {
   "cell_type": "code",
   "execution_count": null,
   "id": "aee9cd0a",
   "metadata": {},
   "outputs": [],
   "source": [
    "# Finding unique values present in 'Released Year' column\n",
    "\n",
    "spotify_columns_df[\"Released Year\"].unique()\n"
   ]
  },
  {
   "cell_type": "code",
   "execution_count": null,
   "id": "862c877e",
   "metadata": {
    "scrolled": false
   },
   "outputs": [],
   "source": [
    "# Data Aggregation: \n",
    "\n",
    "# Create separat groups for each unique value of 'Released Year' column\n",
    "# Calculate the average value of the number of 'Streams' for each 'Released Year' group. \n",
    "\n",
    "releasedyear_linechart_df = spotify_columns_df.groupby(\"Released Year\")\n",
    "average_streams_releasedyear = releasedyear_linechart_df['Streams'].mean()\n",
    "\n",
    "average_streams_releasedyear\n"
   ]
  },
  {
   "cell_type": "code",
   "execution_count": null,
   "id": "0f520f84",
   "metadata": {
    "scrolled": true
   },
   "outputs": [],
   "source": [
    "# Data Visualization: Line Chart \n",
    "\n",
    "plt.plot(average_streams_releasedyear)\n",
    "plt.title(\"Music Popularity over Time\")\n",
    "plt.xlabel('Released Year')\n",
    "plt.ylabel('Streams')\n",
    "plt.ticklabel_format(style='plain', axis='y')\n",
    "\n",
    "plt.savefig(\"Streams-accrossyr1\")\n",
    "plt.show()\n",
    "\n"
   ]
  },
  {
   "cell_type": "code",
   "execution_count": null,
   "id": "ec460ee9",
   "metadata": {},
   "outputs": [],
   "source": [
    "spotify_reducedyear_df = spotify_columns_df.loc[spotify_columns_df[\"Released Year\"] > 2020]\n",
    "\n",
    "releasedyear_linechart_df = spotify_reducedyear_df.groupby(\"Released Year\")\n",
    "average_streams_releasedyear = releasedyear_linechart_df['Streams'].mean()\n",
    "\n",
    "average_streams_releasedyear"
   ]
  },
  {
   "cell_type": "code",
   "execution_count": null,
   "id": "fe9a47d1",
   "metadata": {},
   "outputs": [],
   "source": [
    "plt.plot(average_streams_releasedyear)\n",
    "plt.title(\"Music Popularity over Time (2020-2023)\")\n",
    "plt.xlabel('Released Year')\n",
    "plt.ylabel('Streams')\n",
    "plt.ticklabel_format(style='plain', axis='y')\n",
    "plt.ticklabel_format(style='plain', axis='x')\n",
    "\n",
    "plt.savefig(\"Streams-accrossyr2\")\n",
    "plt.show()"
   ]
  },
  {
   "cell_type": "code",
   "execution_count": null,
   "id": "10809fc4",
   "metadata": {},
   "outputs": [],
   "source": []
  },
  {
   "cell_type": "code",
   "execution_count": null,
   "id": "92478acb",
   "metadata": {},
   "outputs": [],
   "source": []
  }
 ],
 "metadata": {
  "kernelspec": {
   "display_name": "Python 3 (ipykernel)",
   "language": "python",
   "name": "python3"
  },
  "language_info": {
   "codemirror_mode": {
    "name": "ipython",
    "version": 3
   },
   "file_extension": ".py",
   "mimetype": "text/x-python",
   "name": "python",
   "nbconvert_exporter": "python",
   "pygments_lexer": "ipython3",
   "version": "3.11.5"
  }
 },
 "nbformat": 4,
 "nbformat_minor": 5
}
